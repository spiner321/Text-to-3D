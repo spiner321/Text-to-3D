{
 "cells": [
  {
   "attachments": {},
   "cell_type": "markdown",
   "metadata": {},
   "source": [
    "# # GPU Setting\n",
    "---"
   ]
  },
  {
   "cell_type": "code",
   "execution_count": null,
   "metadata": {},
   "outputs": [],
   "source": [
    "import os\n",
    "\n",
    "os.environ['CUDA_DEVICE_ORDER'] = 'PCI_BUS_ID'\n",
    "os.environ['CUDA_VISIBLE_DEVICES'] = '3'"
   ]
  },
  {
   "attachments": {},
   "cell_type": "markdown",
   "metadata": {},
   "source": [
    "# # Instant-NGP\n",
    "---"
   ]
  },
  {
   "cell_type": "code",
   "execution_count": null,
   "metadata": {},
   "outputs": [],
   "source": [
    "# #@title install dependencies\n",
    "# ! git clone https://github.com/ashawkey/stable-dreamfusion.git\n",
    "\n",
    "# %cd stable-dreamfusion\n",
    "\n",
    "# # fix the commit \n",
    "# ! git reset --hard e496e35df6e9b67784c3b24504cd61a2e7c19a0d\n",
    "\n",
    "# # install requirements\n",
    "! pip install -r requirements.txt\n",
    "! pip install git+https://github.com/NVlabs/nvdiffrast/\n",
    "\n",
    "# install CUDA extensions (takes about 8 minutes!)\n",
    "! pip install ./raymarching\n",
    "! pip install ./shencoder\n",
    "! pip install ./freqencoder\n",
    "! pip install ./gridencoder"
   ]
  },
  {
   "attachments": {},
   "cell_type": "markdown",
   "metadata": {},
   "source": [
    "## # Training & Testing\n",
    "* The default 5000 training steps take around 30 minutes to finish. A larger `Training_iters` usually leads to better results.\n",
    "* If CUDA OOM, try to decrease `Max_steps` and `Training_nerf_resolution`.\n",
    "* If the NeRF fails to learn anything (empty scene, only background), try to decrease `Lambda_entropy` which regularizes the learned opacity."
   ]
  },
  {
   "cell_type": "code",
   "execution_count": null,
   "metadata": {},
   "outputs": [],
   "source": [
    "#@markdown ####**Training Settings:**\n",
    "Prompt_text = '(masterpiece:2.0), spreaded trump card on the table' #@param {type: 'string'}\n",
    "Training_iters = 10000 #@param {type: 'integer'}\n",
    "Learning_rate = 1e-3 #@param {type: 'number'}\n",
    "Training_nerf_resolution = 64  #@param {type: 'integer'}\n",
    "# CUDA_ray = True #@param {type: 'boolean'}\n",
    "# View_dependent_prompt = True #@param {type: 'boolean'}\n",
    "# FP16 = True #@param {type: 'boolean'}\n",
    "Seed = 0 #@param {type: 'integer'}\n",
    "Lambda_entropy = 1e-4 #@param {type: 'number'}\n",
    "Max_steps = 512 #@param {type: 'number'}\n",
    "Checkpoint = 'latest' #@param {type: 'string'}\n",
    "\n",
    "#@markdown ---\n",
    "\n",
    "#@markdown ####**Output Settings:**\n",
    "Workspace = \"trial/card\" #@param{type: 'string'}\n",
    "# Save_mesh = True #@param {type: 'boolean'}\n",
    "\n",
    "# processings\n",
    "Prompt_text = '\"' + Prompt_text + '\"'\n",
    "\n",
    "\n",
    "#@title start training\n",
    "import torch\n",
    "torch.cuda.empty_cache()\n",
    "\n",
    "# !python main.py \\\n",
    "#         -O --text {Prompt_text} --workspace {Workspace} --iters {Training_iters} --lr {Learning_rate} \\\n",
    "#         --w {Training_nerf_resolution} --h {Training_nerf_resolution} --seed {Seed} --lambda_entropy {Lambda_entropy} \\\n",
    "#         --ckpt {Checkpoint} --save_mesh --max_steps {Max_steps}\n",
    "        # --progressive_view\n",
    "!python main.py -O --text {Prompt_text} --workspace {Workspace} --iters {Training_iters} --lr {Learning_rate} --w {Training_nerf_resolution} --h {Training_nerf_resolution} --seed {Seed} --lambda_entropy {Lambda_entropy} --ckpt {Checkpoint} --save_mesh --max_steps {Max_steps}"
   ]
  },
  {
   "cell_type": "code",
   "execution_count": null,
   "metadata": {},
   "outputs": [],
   "source": [
    "#@title testing \n",
    "%run main.py -O --test --text {Prompt_text} --workspace {Workspace} --save_mesh"
   ]
  },
  {
   "cell_type": "code",
   "execution_count": null,
   "metadata": {},
   "outputs": [],
   "source": [
    "#@title display RGB video\n",
    "import os\n",
    "import glob\n",
    "from IPython.display import HTML\n",
    "from base64 import b64encode\n",
    "\n",
    "def get_latest_file(path):\n",
    "  dir_list = glob.glob(path)\n",
    "  dir_list.sort(key=lambda x: os.path.getmtime(x))\n",
    "  return dir_list[-1]\n",
    "\n",
    "def show_video(video_path, video_width = 600):\n",
    "   \n",
    "  video_file = open(video_path, \"r+b\").read()\n",
    "  video_url = f\"data:video/mp4;base64,{b64encode(video_file).decode()}\"\n",
    "\n",
    "  return HTML(f\"\"\"<video width={video_width} controls><source src=\"{video_url}\"></video>\"\"\")\n",
    " \n",
    "rgb_video = get_latest_file(os.path.join(Workspace, 'results', '*_rgb.mp4'))\n",
    "show_video(rgb_video)"
   ]
  },
  {
   "attachments": {},
   "cell_type": "markdown",
   "metadata": {},
   "source": [
    "# # Vanilla NeRF\n",
    "---"
   ]
  },
  {
   "cell_type": "code",
   "execution_count": null,
   "metadata": {},
   "outputs": [],
   "source": [
    "!nvidia-smi"
   ]
  },
  {
   "cell_type": "code",
   "execution_count": null,
   "metadata": {},
   "outputs": [],
   "source": [
    "# #@title install dependencies\n",
    "# ! git clone https://github.com/ashawkey/stable-dreamfusion.git\n",
    "\n",
    "# %cd stable-dreamfusion\n",
    "\n",
    "# install requirements\n",
    "! pip install -r requirements.txt\n",
    "! pip install git+https://github.com/NVlabs/nvdiffrast/"
   ]
  },
  {
   "cell_type": "code",
   "execution_count": null,
   "metadata": {},
   "outputs": [],
   "source": [
    "#@markdown ####**Training Settings:**\n",
    "Prompt_text = \"DSLR photo of panda\" #@param {type: 'string'}\n",
    "Training_iters = 3000 #@param {type: 'integer'}\n",
    "Learning_rate = 1e-3 #@param {type: 'number'}\n",
    "Training_nerf_resolution = 64  #@param {type: 'integer'}\n",
    "# CUDA_ray = True #@param {type: 'boolean'}\n",
    "# View_dependent_prompt = True #@param {type: 'boolean'}\n",
    "# FP16 = True #@param {type: 'boolean'}\n",
    "Seed = 0 #@param {type: 'integer'}\n",
    "Lambda_entropy = 1e-4 #@param {type: 'number'}\n",
    "Num_steps = 64 #@param {type: 'number'}\n",
    "Upsample_steps = 32 #@param {type: 'number'}\n",
    "Checkpoint = 'latest' #@param {type: 'string'}\n",
    "\n",
    "#@markdown ---\n",
    "\n",
    "#@markdown ####**Output Settings:**\n",
    "Workspace = \"trial\" #@param{type: 'string'}\n",
    "# Save_mesh = True #@param {type: 'boolean'}\n",
    "\n",
    "# processings\n",
    "Prompt_text = \"'\" + Prompt_text + \"'\""
   ]
  },
  {
   "cell_type": "code",
   "execution_count": null,
   "metadata": {},
   "outputs": [],
   "source": [
    "#@title start training\n",
    "import torch\n",
    "torch.cuda.empty_cache()\n",
    "\n",
    "%run main.py -O --text {Prompt_text} --workspace {Workspace} --iters {Training_iters} --lr {Learning_rate} --w {Training_nerf_resolution} --h {Training_nerf_resolution} --seed {Seed} --lambda_entropy {Lambda_entropy} --ckpt {Checkpoint} --save_mesh --num_steps {Num_steps} --upsample_steps {Upsample_steps}"
   ]
  },
  {
   "cell_type": "code",
   "execution_count": null,
   "metadata": {},
   "outputs": [],
   "source": [
    "#@title testing \n",
    "import torch\n",
    "torch.cuda.empty_cache()\n",
    "\n",
    "checkpoint = '/data/kimgh/stable-dreamfusion/trial/checkpoints/df_ep0021.pth'\n",
    "\n",
    "%run main.py -O2 --test --workspace {Workspace} --save_mesh --ckpt {Checkpoint} --max_ray_batch 1024"
   ]
  },
  {
   "cell_type": "code",
   "execution_count": null,
   "metadata": {},
   "outputs": [],
   "source": [
    "#@title display RGB video\n",
    "import os\n",
    "import glob\n",
    "from IPython.display import HTML\n",
    "from base64 import b64encode\n",
    "\n",
    "def get_latest_file(path):\n",
    "  dir_list = glob.glob(path)\n",
    "  dir_list.sort(key=lambda x: os.path.getmtime(x))\n",
    "  return dir_list[-1]\n",
    "\n",
    "def show_video(video_path, video_width = 600):\n",
    "   \n",
    "  video_file = open(video_path, \"r+b\").read()\n",
    "  video_url = f\"data:video/mp4;base64,{b64encode(video_file).decode()}\"\n",
    "\n",
    "  return HTML(f\"\"\"<video width={video_width} controls><source src=\"{video_url}\"></video>\"\"\")\n",
    " \n",
    "rgb_video = get_latest_file(os.path.join(Workspace, 'results', '*_rgb.mp4'))\n",
    "show_video(rgb_video)"
   ]
  }
 ],
 "metadata": {
  "kernelspec": {
   "display_name": "spiner310",
   "language": "python",
   "name": "python3"
  },
  "language_info": {
   "codemirror_mode": {
    "name": "ipython",
    "version": 3
   },
   "file_extension": ".py",
   "mimetype": "text/x-python",
   "name": "python",
   "nbconvert_exporter": "python",
   "pygments_lexer": "ipython3",
   "version": "3.10.0"
  },
  "orig_nbformat": 4
 },
 "nbformat": 4,
 "nbformat_minor": 2
}
